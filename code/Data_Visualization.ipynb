{
 "cells": [
  {
   "cell_type": "markdown",
   "id": "57c8ff5d-65ef-44ce-948b-c53ab872bb3b",
   "metadata": {},
   "source": [
    "# Data Visualization"
   ]
  },
  {
   "cell_type": "code",
   "execution_count": 1,
   "id": "10689a37-66e2-49ef-9020-947be34c5428",
   "metadata": {},
   "outputs": [],
   "source": [
    "import pandas as pd\n",
    "import numpy as np\n",
    "import matplotlib\n",
    "import matplotlib.pyplot as plt\n",
    "import torch\n",
    "import torch_geometric\n",
    "import seaborn as sns\n",
    "import sklearn\n",
    "import shap"
   ]
  },
  {
   "cell_type": "code",
   "execution_count": 2,
   "id": "a6b48184-ee25-4474-9e3f-9e84c38e6131",
   "metadata": {},
   "outputs": [
    {
     "name": "stdout",
     "output_type": "stream",
     "text": [
      "PyTorch version: 2.5.1+cu124\n",
      "PyTorch Geometric version: 2.5.3\n",
      "Pandas version: 2.2.2\n",
      "Matplotlib version: 3.9.1\n",
      "Seaborn version: 0.13.2\n",
      "Numpy version: 1.26.4\n",
      "Scikit-learn version: 1.5.1\n",
      "Shap version: 0.46.0\n"
     ]
    }
   ],
   "source": [
    "print(\"PyTorch version:\", torch.__version__)\n",
    "print(\"PyTorch Geometric version:\", torch_geometric.__version__)\n",
    "print(\"Pandas version:\", pd.__version__)\n",
    "print(\"Matplotlib version:\", matplotlib.__version__)\n",
    "print(\"Seaborn version:\", sns.__version__)\n",
    "print(\"Numpy version:\", np.__version__)\n",
    "print(\"Scikit-learn version:\", sklearn.__version__)\n",
    "print(\"Shap version:\", shap.__version__)"
   ]
  },
  {
   "cell_type": "markdown",
   "id": "7ff8042f-d0be-4da5-928e-c80887cff8b5",
   "metadata": {},
   "source": [
    "### Load data"
   ]
  },
  {
   "cell_type": "code",
   "execution_count": null,
   "id": "3ce385cd-8683-4df2-8ecc-868f56cd0278",
   "metadata": {},
   "outputs": [],
   "source": [
    "data = \"../Drug_combination_data\"\n",
    "visualizations = \"../visualizations\""
   ]
  },
  {
   "cell_type": "code",
   "execution_count": null,
   "id": "7c4a732c-f4c8-4067-8439-5993193b6cf9",
   "metadata": {},
   "outputs": [],
   "source": [
    "df1 = pd.read_csv(f\"{data}/DrugCombiNet_drug_disease_scores.tsv\", sep=\"\\t\")"
   ]
  },
  {
   "cell_type": "code",
   "execution_count": null,
   "id": "cc3209ed-0e7c-47c9-98f8-7724ed0521c8",
   "metadata": {},
   "outputs": [],
   "source": [
    "df2 = pd.read_csv(f\"{data}/DrugCombiNet_drug_disease_z_scores.tsv\", sep=\"\\t\")"
   ]
  },
  {
   "cell_type": "code",
   "execution_count": null,
   "id": "5e71c3a8-0614-47cc-91ef-36f70ea3561b",
   "metadata": {},
   "outputs": [],
   "source": [
    "# combine node features with z-scores\n",
    "combined = pd.merge(df1, df2, on=\"drug\")\n",
    "#combined.to_csv(f\"{data}/combined_drug_data.csv\", index=False)"
   ]
  },
  {
   "cell_type": "code",
   "execution_count": null,
   "id": "06b8ebd7-c3d8-4c00-b76b-a2b79f53e81d",
   "metadata": {},
   "outputs": [],
   "source": [
    "df3 = pd.read_csv(f\"{data}/DrugCombiNet_drug_drug_scores.tsv\", sep=\"\\t\")"
   ]
  },
  {
   "cell_type": "markdown",
   "id": "b1c9870f-5e45-413b-b737-3fababec3730",
   "metadata": {},
   "source": [
    "### Visualizing node features "
   ]
  },
  {
   "cell_type": "code",
   "execution_count": null,
   "id": "6bc8f390-635d-42ca-a07f-be030c14cf27",
   "metadata": {},
   "outputs": [],
   "source": [
    "columns = [\"s\", \"op\", \"meanSP\", \"medianSP\", \"minSP\", \"maxSP\", \"zTD\", \"zDT\"]\n",
    "for i, column in enumerate(columns):\n",
    "    sns.histplot(\n",
    "        combined[column],\n",
    "        color=\"blue\",\n",
    "        label=\"100% Equities\",\n",
    "        kde=True,\n",
    "        stat=\"density\",\n",
    "        linewidth=0,\n",
    "    )\n",
    "    #plt.savefig(f\"{visualizations}/{column}.svg\")\n",
    "    plt.show()"
   ]
  },
  {
   "cell_type": "markdown",
   "id": "6445a04a-6334-4279-aa71-4fcd29aa44d7",
   "metadata": {},
   "source": [
    "### Visualizing edge features"
   ]
  },
  {
   "cell_type": "code",
   "execution_count": null,
   "id": "2eab1ead-bba1-4a95-8010-99be627afd73",
   "metadata": {},
   "outputs": [],
   "source": [
    "columns = [\"s\", \"op\", \"meanSP\", \"medianSP\", \"minSP\", \"maxSP\"]\n",
    "for i, column in enumerate(columns):\n",
    "    sns.histplot(\n",
    "        df3[column],\n",
    "        color=\"green\",\n",
    "        label=\"100% Equities\",\n",
    "        kde=True,\n",
    "        stat=\"density\",\n",
    "        linewidth=0,\n",
    "    )\n",
    "    #plt.savefig(f\"{visualizations}/drug_drug_{column}.svg\")\n",
    "    plt.show()"
   ]
  },
  {
   "cell_type": "code",
   "execution_count": null,
   "id": "29a28fb2-390f-4032-93cd-d76371bdaead",
   "metadata": {},
   "outputs": [],
   "source": [
    "ground_truth = pd.read_csv(f\"{data}/groundtruth_cardiovascular_2drugs_only.tsv\", sep=\"\\t\")"
   ]
  },
  {
   "cell_type": "markdown",
   "id": "52bdcc15-4106-464a-b2cb-a7369b5f4d1f",
   "metadata": {},
   "source": [
    "### Visualizing labels"
   ]
  },
  {
   "cell_type": "code",
   "execution_count": null,
   "id": "123c8e61-24f9-4a00-8e22-46d0bbad14ed",
   "metadata": {},
   "outputs": [],
   "source": [
    "ground_truth = ground_truth[[\"drugA\", \"drugB\", \"label\"]]\n",
    "columns = [\"label\"]\n",
    "for i, column in enumerate(columns):\n",
    "    sns.histplot(\n",
    "        ground_truth[column],\n",
    "        color=\"blue\",\n",
    "        label=\"100% Equities\",\n",
    "        kde=True,\n",
    "        stat=\"density\",\n",
    "        linewidth=0,\n",
    "    )\n",
    "    #plt.savefig(f\"{visualizations}/{column}.svg\")\n",
    "    plt.show()"
   ]
  },
  {
   "cell_type": "code",
   "execution_count": null,
   "id": "a683d64b-4cf0-4029-a1e2-102f7545d5d0",
   "metadata": {},
   "outputs": [],
   "source": []
  }
 ],
 "metadata": {
  "kernelspec": {
   "display_name": "Python 3 (ipykernel)",
   "language": "python",
   "name": "python3"
  },
  "language_info": {
   "codemirror_mode": {
    "name": "ipython",
    "version": 3
   },
   "file_extension": ".py",
   "mimetype": "text/x-python",
   "name": "python",
   "nbconvert_exporter": "python",
   "pygments_lexer": "ipython3",
   "version": "3.12.2"
  }
 },
 "nbformat": 4,
 "nbformat_minor": 5
}
