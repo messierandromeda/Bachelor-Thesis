{
 "cells": [
  {
   "cell_type": "markdown",
   "id": "15252e3f-19c9-4dbe-b06d-e0dff9f11cd5",
   "metadata": {},
   "source": [
    "# Feature Selection"
   ]
  },
  {
   "cell_type": "markdown",
   "id": "b8f0df7d-678e-4291-98a8-4649f310df6c",
   "metadata": {},
   "source": [
    "#### Assumptions: \n",
    "1. The prediction task is an edge classification problem\n",
    "2. The labels are 0 and 1 only\n",
    "3. The ID is linear and sorted\n",
    "\n",
    "#### Usage: \n",
    "Select any number of node and edge features in the data given that matches the assumptions above, where the original data is stored in ``Drug_combination_data``"
   ]
  },
  {
   "cell_type": "code",
   "execution_count": null,
   "id": "395ab051-9dcb-490f-8470-0b291faf71b9",
   "metadata": {},
   "outputs": [],
   "source": [
    "import pandas as pd\n",
    "import os"
   ]
  },
  {
   "cell_type": "code",
   "execution_count": null,
   "id": "0cf533be-1ec8-4ef3-a19f-4c441b0269cd",
   "metadata": {},
   "outputs": [],
   "source": [
    "original = \"../Drug_combination_data\"  # original data\n",
    "data = \"../data\"                       # processed data"
   ]
  },
  {
   "cell_type": "code",
   "execution_count": null,
   "id": "e2650f78-283e-475a-be29-f695319c6e5b",
   "metadata": {},
   "outputs": [],
   "source": [
    "if not os.path.exists(data):\n",
    "    os.makedirs(data)"
   ]
  },
  {
   "cell_type": "markdown",
   "id": "68afab54-10ed-46ba-a655-8accf4511be3",
   "metadata": {},
   "source": [
    "### Load data"
   ]
  },
  {
   "cell_type": "code",
   "execution_count": null,
   "id": "a598e8db-5237-476d-bdd1-551c76463319",
   "metadata": {},
   "outputs": [],
   "source": [
    "df1 = pd.read_csv(f\"{original}/DrugCombiNet_drug_disease_scores.tsv\", sep=\"\\t\")       # node features\n",
    "df2 = pd.read_csv(f\"{original}/DrugCombiNet_drug_disease_z_scores.tsv\", sep=\"\\t\")     # node features z-scores\n",
    "df3 = pd.read_csv(f\"{original}/DrugCombiNet_drug_drug_scores.tsv\", sep=\"\\t\")          # edge features\n",
    "df4 = pd.read_csv(f\"{original}/groundtruth_cardiovascular_2drugs_only.tsv\", sep=\"\\t\") # labels"
   ]
  },
  {
   "cell_type": "markdown",
   "id": "99c8cea2-80c0-41d7-b89a-2fb58a9f0685",
   "metadata": {},
   "source": [
    "### Initial Preprocessing"
   ]
  },
  {
   "cell_type": "markdown",
   "id": "0ca98ffb-d249-466e-992c-2bb9cf124d21",
   "metadata": {},
   "source": [
    "There are more drug-drug data (edge features) than ground truth labels, so only the drug-drug data that have labels are selected"
   ]
  },
  {
   "cell_type": "code",
   "execution_count": null,
   "id": "599534e2-0fc0-48ce-9ff7-19daaea1f44c",
   "metadata": {},
   "outputs": [],
   "source": [
    "# node features 1, node features 2, edge features, label\n",
    "def preprocess_data(df1, df2, df3, df4):      \n",
    "    # ------- Step 1: get node features -------\n",
    "    combined = pd.merge(df1, df2, on=\"drug\")\n",
    "    #combined.to_csv(f\"{data}/node_features.csv\", index=False)\n",
    "\n",
    "    # ------- Step 2: create a file with drugA and drugB with the label -------\n",
    "    df3[\"drugcomb_sorted\"] = df3[\"drugA\"] + \"_\" + df3[\"drugB\"]   # create a new column drugcomb_sorted based on the ID of drug A and drugB\n",
    "    df4 = pd.merge(df3, df4, on=[\"drugcomb_sorted\"])             # combine edge features with label    \n",
    "    df4.drop_duplicates(subset=[\"drugcomb_sorted\"], keep=\"first\", inplace=True)\n",
    "    mapping = {df4.columns[0]: \"drugA\", df4.columns[1]: \"drugB\"} # rename columns \n",
    "    df4 = df4.rename(columns=mapping)\n",
    "    #df4.to_csv(f\"{data}/drugA_drugB_label.csv\", index=False)   \n",
    "\n",
    "    # ------- Step 3: join drug in the node features file with drugA and drugB -------\n",
    "    df = pd.read_csv(f\"{data}/drugA_drugB_label.csv\")\n",
    "    df = df.merge(combined, how=\"left\", left_on=\"drugA\", right_on=\"drug\")  # drugA's features\n",
    "    # rename edge features to avoid columns with the same name\n",
    "    df = df.rename(columns={\n",
    "            \"s_x\": \"s\",\n",
    "            \"op_x\": \"op\",\n",
    "            \"meanSP_x\": \"meanSP\",\n",
    "            \"medianSP_x\": \"medianSP\",\n",
    "            \"minSP_x\": \"minSP\",\n",
    "            \"maxSP_x\": \"maxSP\",\n",
    "        }) \n",
    "    df = df.merge(combined, how=\"left\", left_on=\"drugB\", right_on=\"drug\")  # drugB's features\n",
    "\n",
    "    # ------- Step 4: rearrange columns -------\n",
    "    # remove additional columns\n",
    "    df.drop([\"drug_x\", \"drug_y\"], axis=1, inplace=True)\n",
    "    columns = df.columns.to_list()\n",
    "    df.drop([\"drugA_y\", \"drugB_y\"], axis=1, inplace=True)\n",
    "\n",
    "    # renaming the columns\n",
    "    df.columns = [\"drugA\",\"drugB\",\"s\",\"op\",\"meanSP\",\"medianSP\",\"minSP\",\"maxSP\",\"drugcomb_sorted\",\"label\",\"s_x\",\"op_x\",\"meanSP_x\",\n",
    "                  \"medianSP_x\",\"minSP_x\",\"maxSP_x\",\"zTD_x\",\"zDT_x\",\"s_y\",\"op_y\",\"meanSP_y\",\"medianSP_y\",\"minSP_y\",\"maxSP_y\",\"zTD_y\",\"zDT_y\"]  \n",
    "\n",
    "    # reorder the columns so the label is in the last column\n",
    "    df = df[[\"drugcomb_sorted\",\"drugA\",\"drugB\",\"s\",\"op\",\"meanSP\",\"medianSP\",\"minSP\",\"maxSP\", \"s_x\",\"op_x\",\"meanSP_x\",\n",
    "             \"medianSP_x\",\"minSP_x\",\"maxSP_x\",\"zTD_x\",\"zDT_x\",\"s_y\",\"op_y\",\"meanSP_y\",\"medianSP_y\",\"minSP_y\",\"maxSP_y\",\"zTD_y\",\"zDT_y\", \n",
    "             \"label\"]]\n",
    "    \n",
    "    # final file with node and edge features and labels\n",
    "    #df.to_csv(f\"{data}/node_edge_features.csv\", index=False)\n",
    "    return combined, df4, df\n",
    "\n",
    "preprocess_data(df1, df2, df3, df4)"
   ]
  },
  {
   "cell_type": "markdown",
   "id": "fd71bc0c-7769-45e5-9f8d-11bbdc7be357",
   "metadata": {},
   "source": [
    "#### Convert ID to integer"
   ]
  },
  {
   "cell_type": "code",
   "execution_count": null,
   "id": "79c705dc-54ff-4877-8662-ba89279e9a76",
   "metadata": {},
   "outputs": [],
   "source": [
    "df1 = pd.read_csv(f\"{data}/node_features.csv\")\n",
    "df2 = pd.read_csv(f\"{data}/node_edge_features.csv\")"
   ]
  },
  {
   "cell_type": "code",
   "execution_count": null,
   "id": "fc766442-b212-4d6b-adc3-088ef9eac15a",
   "metadata": {},
   "outputs": [],
   "source": [
    "# convert ID to int\n",
    "def convert_int(df1, df2):\n",
    "    df1[\"drug\"] = df1[\"drug\"].str.removeprefix(\"DB\").to_numpy(dtype=int)\n",
    "    df2[\"drugA\"] = df2[\"drugA\"].str.removeprefix(\"DB\").to_numpy(dtype=int)\n",
    "    df2[\"drugB\"] = df2[\"drugB\"].str.removeprefix(\"DB\").to_numpy(dtype=int)\n",
    "    #df1.to_csv(f\"{data}/node_features_id.csv\", index_label=\"ID\")\n",
    "    #df2.to_csv(f\"{data}/node_edge_features_id.csv\", index=False)\n",
    "    return df1, df2\n",
    "convert_int(df1, df2)"
   ]
  },
  {
   "cell_type": "markdown",
   "id": "ae8c5c4f-891a-4fb8-b9b0-0aa7abfadecd",
   "metadata": {},
   "source": [
    "## Select any number of node and edge features"
   ]
  },
  {
   "cell_type": "markdown",
   "id": "6345c69c-7abc-49e6-8a4e-75368413741a",
   "metadata": {},
   "source": [
    "### Tabular data (Random forest, XGBoost, Neural Network)"
   ]
  },
  {
   "cell_type": "code",
   "execution_count": null,
   "id": "6e4b6f2b-942a-4cd6-a5e6-98177ed5f357",
   "metadata": {},
   "outputs": [],
   "source": [
    "df1 = pd.read_csv(f\"{data}/node_features_id.csv\")    \n",
    "df2 = pd.read_csv(f\"{data}/node_edge_features_id.csv\")\n",
    "\n",
    "# combine 2 files (df1 = node features, df2 = edge features) and select the features\n",
    "def baseline_data(df1, df2, node_features, edge_features):  \n",
    "    # ------- Step 1: add any number of node features -------\n",
    "    nodes = []\n",
    "    for i in range(len(node_features)):\n",
    "        nodes.append(node_features[i] + \"_x\")\n",
    "    for i in range(len(node_features)):\n",
    "        nodes.append(node_features[i] + \"_y\")\n",
    "    new_data = df2[[\"drugcomb_sorted\", \"drugA\", \"drugB\"] + edge_features + nodes + [\"label\"]]\n",
    "    \n",
    "    # ------- Step 2: swap the columns for permutation invariance -------\n",
    "    # swap the ID of drugA and drugB\n",
    "    features = [\"drugA\", \"drugB\"] + edge_features + nodes\n",
    "    new_data1 = new_data.copy()\n",
    "    new_data1[\"drugA\"], new_data1[\"drugB\"] = new_data1[\"drugB\"], new_data1[\"drugA\"]  \n",
    "\n",
    "    # swap the node features\n",
    "    n = 2+len(edge_features)  # column 0: drugcomb_sorted, column 1: drugA, column 2: drugB, column 3 onwards: edge_features\n",
    "    for i in range(n, n+len(node_features)):  \n",
    "        new_data1[features[i]], new_data1[features[i+n]] = new_data1[features[i+n]], new_data1[features[i]]\n",
    "\n",
    "    # ------- Step 3: Merge the original and the swapped dataframes together -------\n",
    "    final = pd.concat([new_data, new_data1]).sort_index(kind=\"merge\")\n",
    "    #final.to_csv(f\"{data}/baseline_features.csv\", index=False)\n",
    "    return final\n",
    "\n",
    "baseline_data(df1, df2, [\"s\", \"meanSP\", \"medianSP\", \"minSP\", \"maxSP\", \"zTD\",\"zDT\"], \n",
    "              [\"s\", \"meanSP\", \"medianSP\", \"minSP\", \"maxSP\"])  # specify the node and edge features"
   ]
  },
  {
   "cell_type": "markdown",
   "id": "b2b33137-9083-40a1-ba7c-a15fe2fc44f0",
   "metadata": {},
   "source": [
    "### Graph data (GCN, GAT, Graph Transformer)"
   ]
  },
  {
   "cell_type": "code",
   "execution_count": null,
   "id": "c109ecbf-a70a-41f9-a3f9-155f122b6797",
   "metadata": {},
   "outputs": [],
   "source": [
    "df1 = pd.read_csv(f\"{data}/node_features_id.csv\")\n",
    "df2 = pd.read_csv(f\"{data}/baseline_features.csv\")\n",
    "\n",
    "new_df2 = df2[[\"drugcomb_sorted\",\"drugA\",\"drugB\",\"s\",\"meanSP\",\"medianSP\",\"minSP\",\"maxSP\", \"label\"]]  # took out op\n",
    "\n",
    "def gnn_data(df1, df2, node_features, edge_features):\n",
    "    mapping = pd.Series(df1[\"ID\"].values, index=df1[\"drug\"]).to_dict()  # map old value to new value\n",
    "    nodes = df1[[\"ID\", \"drug\"] + node_features]\n",
    "    #nodes.to_csv(f\"{data}/gnn_node_features.csv\", index=False)\n",
    "    df2.insert(2, \"drugA_ID\", value=None)\n",
    "    df2[\"drugA_ID\"] = df2.drugA.map(mapping)\n",
    "    df2.insert(4, \"drugB_ID\", value=None)\n",
    "    df2[\"drugB_ID\"] = df2.drugB.map(mapping)\n",
    "    edges = df2[[\"drugcomb_sorted\", \"drugA\", \"drugA_ID\", \"drugB\", \"drugB_ID\"] + edge_features + [\"label\"]]\n",
    "    edges.to_csv(f\"{data}/gnn_edge_features_test.csv\", index=False)\n",
    "    return nodes, edges\n",
    "\n",
    "gnn_data(df1, new_df2, [\"s\", \"meanSP\", \"medianSP\", \"minSP\", \"maxSP\", \"zTD\",\"zDT\"], \n",
    "              [\"s\", \"meanSP\", \"medianSP\", \"minSP\", \"maxSP\"])  # specify the node and edge features"
   ]
  },
  {
   "cell_type": "code",
   "execution_count": null,
   "id": "45052b78-fdbe-4c5c-84d7-a00cfb45fc19",
   "metadata": {},
   "outputs": [],
   "source": []
  }
 ],
 "metadata": {
  "kernelspec": {
   "display_name": "Python 3 (ipykernel)",
   "language": "python",
   "name": "python3"
  },
  "language_info": {
   "codemirror_mode": {
    "name": "ipython",
    "version": 3
   },
   "file_extension": ".py",
   "mimetype": "text/x-python",
   "name": "python",
   "nbconvert_exporter": "python",
   "pygments_lexer": "ipython3",
   "version": "3.12.2"
  }
 },
 "nbformat": 4,
 "nbformat_minor": 5
}
